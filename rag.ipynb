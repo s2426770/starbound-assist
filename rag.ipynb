{
 "cells": [
  {
   "cell_type": "code",
   "execution_count": 50,
   "metadata": {
    "ExecuteTime": {
     "end_time": "2024-08-10T08:48:05.452816Z",
     "start_time": "2024-08-10T08:48:05.443763Z"
    }
   },
   "outputs": [
    {
     "name": "stdout",
     "output_type": "stream",
     "text": [
      "Requirement already satisfied: langchain in c:\\users\\user-pc\\documents\\overseas stuff\\edinburgh\\year 3\\coding projects\\ollama rag\\myenv\\lib\\site-packages (0.2.14)\n",
      "Requirement already satisfied: langchain-community in c:\\users\\user-pc\\documents\\overseas stuff\\edinburgh\\year 3\\coding projects\\ollama rag\\myenv\\lib\\site-packages (0.2.12)\n",
      "Requirement already satisfied: langchain-core in c:\\users\\user-pc\\documents\\overseas stuff\\edinburgh\\year 3\\coding projects\\ollama rag\\myenv\\lib\\site-packages (0.2.33)\n",
      "Requirement already satisfied: sentence_transformers in c:\\users\\user-pc\\documents\\overseas stuff\\edinburgh\\year 3\\coding projects\\ollama rag\\myenv\\lib\\site-packages (3.0.1)\n",
      "Requirement already satisfied: langchain-openai in c:\\users\\user-pc\\documents\\overseas stuff\\edinburgh\\year 3\\coding projects\\ollama rag\\myenv\\lib\\site-packages (0.1.22)\n",
      "Requirement already satisfied: python-dotenv in c:\\users\\user-pc\\documents\\overseas stuff\\edinburgh\\year 3\\coding projects\\ollama rag\\myenv\\lib\\site-packages (1.0.1)\n",
      "Requirement already satisfied: beautifulsoup4 in c:\\users\\user-pc\\documents\\overseas stuff\\edinburgh\\year 3\\coding projects\\ollama rag\\myenv\\lib\\site-packages (4.12.3)\n",
      "Requirement already satisfied: langchain-chroma in c:\\users\\user-pc\\documents\\overseas stuff\\edinburgh\\year 3\\coding projects\\ollama rag\\myenv\\lib\\site-packages (0.1.2)\n",
      "Requirement already satisfied: langchain-groq in c:\\users\\user-pc\\documents\\overseas stuff\\edinburgh\\year 3\\coding projects\\ollama rag\\myenv\\lib\\site-packages (0.1.9)\n",
      "Requirement already satisfied: PyYAML>=5.3 in c:\\users\\user-pc\\documents\\overseas stuff\\edinburgh\\year 3\\coding projects\\ollama rag\\myenv\\lib\\site-packages (from langchain) (6.0.2)\n",
      "Requirement already satisfied: SQLAlchemy<3,>=1.4 in c:\\users\\user-pc\\documents\\overseas stuff\\edinburgh\\year 3\\coding projects\\ollama rag\\myenv\\lib\\site-packages (from langchain) (2.0.32)\n",
      "Requirement already satisfied: aiohttp<4.0.0,>=3.8.3 in c:\\users\\user-pc\\documents\\overseas stuff\\edinburgh\\year 3\\coding projects\\ollama rag\\myenv\\lib\\site-packages (from langchain) (3.10.4)\n",
      "Requirement already satisfied: langchain-text-splitters<0.3.0,>=0.2.0 in c:\\users\\user-pc\\documents\\overseas stuff\\edinburgh\\year 3\\coding projects\\ollama rag\\myenv\\lib\\site-packages (from langchain) (0.2.2)\n",
      "Requirement already satisfied: langsmith<0.2.0,>=0.1.17 in c:\\users\\user-pc\\documents\\overseas stuff\\edinburgh\\year 3\\coding projects\\ollama rag\\myenv\\lib\\site-packages (from langchain) (0.1.99)\n",
      "Requirement already satisfied: numpy<2.0.0,>=1.26.0 in c:\\users\\user-pc\\documents\\overseas stuff\\edinburgh\\year 3\\coding projects\\ollama rag\\myenv\\lib\\site-packages (from langchain) (1.26.4)\n",
      "Requirement already satisfied: pydantic<3,>=1 in c:\\users\\user-pc\\documents\\overseas stuff\\edinburgh\\year 3\\coding projects\\ollama rag\\myenv\\lib\\site-packages (from langchain) (2.8.2)\n",
      "Requirement already satisfied: requests<3,>=2 in c:\\users\\user-pc\\documents\\overseas stuff\\edinburgh\\year 3\\coding projects\\ollama rag\\myenv\\lib\\site-packages (from langchain) (2.32.3)\n",
      "Requirement already satisfied: tenacity!=8.4.0,<9.0.0,>=8.1.0 in c:\\users\\user-pc\\documents\\overseas stuff\\edinburgh\\year 3\\coding projects\\ollama rag\\myenv\\lib\\site-packages (from langchain) (8.5.0)\n",
      "Requirement already satisfied: dataclasses-json<0.7,>=0.5.7 in c:\\users\\user-pc\\documents\\overseas stuff\\edinburgh\\year 3\\coding projects\\ollama rag\\myenv\\lib\\site-packages (from langchain-community) (0.6.7)\n",
      "Requirement already satisfied: jsonpatch<2.0,>=1.33 in c:\\users\\user-pc\\documents\\overseas stuff\\edinburgh\\year 3\\coding projects\\ollama rag\\myenv\\lib\\site-packages (from langchain-core) (1.33)\n",
      "Requirement already satisfied: packaging<25,>=23.2 in c:\\users\\user-pc\\documents\\overseas stuff\\edinburgh\\year 3\\coding projects\\ollama rag\\myenv\\lib\\site-packages (from langchain-core) (24.1)\n",
      "Requirement already satisfied: typing-extensions>=4.7 in c:\\users\\user-pc\\documents\\overseas stuff\\edinburgh\\year 3\\coding projects\\ollama rag\\myenv\\lib\\site-packages (from langchain-core) (4.12.2)\n",
      "Requirement already satisfied: transformers<5.0.0,>=4.34.0 in c:\\users\\user-pc\\documents\\overseas stuff\\edinburgh\\year 3\\coding projects\\ollama rag\\myenv\\lib\\site-packages (from sentence_transformers) (4.44.0)\n",
      "Requirement already satisfied: tqdm in c:\\users\\user-pc\\documents\\overseas stuff\\edinburgh\\year 3\\coding projects\\ollama rag\\myenv\\lib\\site-packages (from sentence_transformers) (4.66.5)\n",
      "Requirement already satisfied: torch>=1.11.0 in c:\\users\\user-pc\\documents\\overseas stuff\\edinburgh\\year 3\\coding projects\\ollama rag\\myenv\\lib\\site-packages (from sentence_transformers) (2.4.0)\n",
      "Requirement already satisfied: scikit-learn in c:\\users\\user-pc\\documents\\overseas stuff\\edinburgh\\year 3\\coding projects\\ollama rag\\myenv\\lib\\site-packages (from sentence_transformers) (1.5.1)\n",
      "Requirement already satisfied: scipy in c:\\users\\user-pc\\documents\\overseas stuff\\edinburgh\\year 3\\coding projects\\ollama rag\\myenv\\lib\\site-packages (from sentence_transformers) (1.14.0)\n",
      "Requirement already satisfied: huggingface-hub>=0.15.1 in c:\\users\\user-pc\\documents\\overseas stuff\\edinburgh\\year 3\\coding projects\\ollama rag\\myenv\\lib\\site-packages (from sentence_transformers) (0.24.6)\n",
      "Requirement already satisfied: Pillow in c:\\users\\user-pc\\documents\\overseas stuff\\edinburgh\\year 3\\coding projects\\ollama rag\\myenv\\lib\\site-packages (from sentence_transformers) (10.4.0)\n",
      "Requirement already satisfied: openai<2.0.0,>=1.40.0 in c:\\users\\user-pc\\documents\\overseas stuff\\edinburgh\\year 3\\coding projects\\ollama rag\\myenv\\lib\\site-packages (from langchain-openai) (1.41.0)\n",
      "Requirement already satisfied: tiktoken<1,>=0.7 in c:\\users\\user-pc\\documents\\overseas stuff\\edinburgh\\year 3\\coding projects\\ollama rag\\myenv\\lib\\site-packages (from langchain-openai) (0.7.0)\n",
      "Requirement already satisfied: soupsieve>1.2 in c:\\users\\user-pc\\documents\\overseas stuff\\edinburgh\\year 3\\coding projects\\ollama rag\\myenv\\lib\\site-packages (from beautifulsoup4) (2.6)\n",
      "Requirement already satisfied: chromadb<0.6.0,>=0.4.0 in c:\\users\\user-pc\\documents\\overseas stuff\\edinburgh\\year 3\\coding projects\\ollama rag\\myenv\\lib\\site-packages (from langchain-chroma) (0.5.5)\n",
      "Requirement already satisfied: fastapi<1,>=0.95.2 in c:\\users\\user-pc\\documents\\overseas stuff\\edinburgh\\year 3\\coding projects\\ollama rag\\myenv\\lib\\site-packages (from langchain-chroma) (0.112.1)\n",
      "Requirement already satisfied: groq<1,>=0.4.1 in c:\\users\\user-pc\\documents\\overseas stuff\\edinburgh\\year 3\\coding projects\\ollama rag\\myenv\\lib\\site-packages (from langchain-groq) (0.9.0)\n",
      "Requirement already satisfied: aiohappyeyeballs>=2.3.0 in c:\\users\\user-pc\\documents\\overseas stuff\\edinburgh\\year 3\\coding projects\\ollama rag\\myenv\\lib\\site-packages (from aiohttp<4.0.0,>=3.8.3->langchain) (2.3.7)\n",
      "Requirement already satisfied: aiosignal>=1.1.2 in c:\\users\\user-pc\\documents\\overseas stuff\\edinburgh\\year 3\\coding projects\\ollama rag\\myenv\\lib\\site-packages (from aiohttp<4.0.0,>=3.8.3->langchain) (1.3.1)\n",
      "Requirement already satisfied: attrs>=17.3.0 in c:\\users\\user-pc\\documents\\overseas stuff\\edinburgh\\year 3\\coding projects\\ollama rag\\myenv\\lib\\site-packages (from aiohttp<4.0.0,>=3.8.3->langchain) (24.2.0)\n",
      "Requirement already satisfied: frozenlist>=1.1.1 in c:\\users\\user-pc\\documents\\overseas stuff\\edinburgh\\year 3\\coding projects\\ollama rag\\myenv\\lib\\site-packages (from aiohttp<4.0.0,>=3.8.3->langchain) (1.4.1)\n",
      "Requirement already satisfied: multidict<7.0,>=4.5 in c:\\users\\user-pc\\documents\\overseas stuff\\edinburgh\\year 3\\coding projects\\ollama rag\\myenv\\lib\\site-packages (from aiohttp<4.0.0,>=3.8.3->langchain) (6.0.5)\n",
      "Requirement already satisfied: yarl<2.0,>=1.0 in c:\\users\\user-pc\\documents\\overseas stuff\\edinburgh\\year 3\\coding projects\\ollama rag\\myenv\\lib\\site-packages (from aiohttp<4.0.0,>=3.8.3->langchain) (1.9.4)\n",
      "Requirement already satisfied: build>=1.0.3 in c:\\users\\user-pc\\documents\\overseas stuff\\edinburgh\\year 3\\coding projects\\ollama rag\\myenv\\lib\\site-packages (from chromadb<0.6.0,>=0.4.0->langchain-chroma) (1.2.1)\n",
      "Requirement already satisfied: chroma-hnswlib==0.7.6 in c:\\users\\user-pc\\documents\\overseas stuff\\edinburgh\\year 3\\coding projects\\ollama rag\\myenv\\lib\\site-packages (from chromadb<0.6.0,>=0.4.0->langchain-chroma) (0.7.6)\n",
      "Requirement already satisfied: uvicorn>=0.18.3 in c:\\users\\user-pc\\documents\\overseas stuff\\edinburgh\\year 3\\coding projects\\ollama rag\\myenv\\lib\\site-packages (from uvicorn[standard]>=0.18.3->chromadb<0.6.0,>=0.4.0->langchain-chroma) (0.30.6)\n",
      "Requirement already satisfied: posthog>=2.4.0 in c:\\users\\user-pc\\documents\\overseas stuff\\edinburgh\\year 3\\coding projects\\ollama rag\\myenv\\lib\\site-packages (from chromadb<0.6.0,>=0.4.0->langchain-chroma) (3.5.0)\n",
      "Requirement already satisfied: onnxruntime>=1.14.1 in c:\\users\\user-pc\\documents\\overseas stuff\\edinburgh\\year 3\\coding projects\\ollama rag\\myenv\\lib\\site-packages (from chromadb<0.6.0,>=0.4.0->langchain-chroma) (1.19.0)\n",
      "Requirement already satisfied: opentelemetry-api>=1.2.0 in c:\\users\\user-pc\\documents\\overseas stuff\\edinburgh\\year 3\\coding projects\\ollama rag\\myenv\\lib\\site-packages (from chromadb<0.6.0,>=0.4.0->langchain-chroma) (1.26.0)\n",
      "Requirement already satisfied: opentelemetry-exporter-otlp-proto-grpc>=1.2.0 in c:\\users\\user-pc\\documents\\overseas stuff\\edinburgh\\year 3\\coding projects\\ollama rag\\myenv\\lib\\site-packages (from chromadb<0.6.0,>=0.4.0->langchain-chroma) (1.26.0)\n",
      "Requirement already satisfied: opentelemetry-instrumentation-fastapi>=0.41b0 in c:\\users\\user-pc\\documents\\overseas stuff\\edinburgh\\year 3\\coding projects\\ollama rag\\myenv\\lib\\site-packages (from chromadb<0.6.0,>=0.4.0->langchain-chroma) (0.47b0)\n",
      "Requirement already satisfied: opentelemetry-sdk>=1.2.0 in c:\\users\\user-pc\\documents\\overseas stuff\\edinburgh\\year 3\\coding projects\\ollama rag\\myenv\\lib\\site-packages (from chromadb<0.6.0,>=0.4.0->langchain-chroma) (1.26.0)\n",
      "Requirement already satisfied: tokenizers>=0.13.2 in c:\\users\\user-pc\\documents\\overseas stuff\\edinburgh\\year 3\\coding projects\\ollama rag\\myenv\\lib\\site-packages (from chromadb<0.6.0,>=0.4.0->langchain-chroma) (0.19.1)\n",
      "Requirement already satisfied: pypika>=0.48.9 in c:\\users\\user-pc\\documents\\overseas stuff\\edinburgh\\year 3\\coding projects\\ollama rag\\myenv\\lib\\site-packages (from chromadb<0.6.0,>=0.4.0->langchain-chroma) (0.48.9)\n",
      "Requirement already satisfied: overrides>=7.3.1 in c:\\users\\user-pc\\documents\\overseas stuff\\edinburgh\\year 3\\coding projects\\ollama rag\\myenv\\lib\\site-packages (from chromadb<0.6.0,>=0.4.0->langchain-chroma) (7.7.0)\n",
      "Requirement already satisfied: importlib-resources in c:\\users\\user-pc\\documents\\overseas stuff\\edinburgh\\year 3\\coding projects\\ollama rag\\myenv\\lib\\site-packages (from chromadb<0.6.0,>=0.4.0->langchain-chroma) (6.4.3)\n",
      "Requirement already satisfied: grpcio>=1.58.0 in c:\\users\\user-pc\\documents\\overseas stuff\\edinburgh\\year 3\\coding projects\\ollama rag\\myenv\\lib\\site-packages (from chromadb<0.6.0,>=0.4.0->langchain-chroma) (1.65.5)\n",
      "Requirement already satisfied: bcrypt>=4.0.1 in c:\\users\\user-pc\\documents\\overseas stuff\\edinburgh\\year 3\\coding projects\\ollama rag\\myenv\\lib\\site-packages (from chromadb<0.6.0,>=0.4.0->langchain-chroma) (4.2.0)\n",
      "Requirement already satisfied: typer>=0.9.0 in c:\\users\\user-pc\\documents\\overseas stuff\\edinburgh\\year 3\\coding projects\\ollama rag\\myenv\\lib\\site-packages (from chromadb<0.6.0,>=0.4.0->langchain-chroma) (0.12.4)\n",
      "Requirement already satisfied: kubernetes>=28.1.0 in c:\\users\\user-pc\\documents\\overseas stuff\\edinburgh\\year 3\\coding projects\\ollama rag\\myenv\\lib\\site-packages (from chromadb<0.6.0,>=0.4.0->langchain-chroma) (30.1.0)\n",
      "Requirement already satisfied: mmh3>=4.0.1 in c:\\users\\user-pc\\documents\\overseas stuff\\edinburgh\\year 3\\coding projects\\ollama rag\\myenv\\lib\\site-packages (from chromadb<0.6.0,>=0.4.0->langchain-chroma) (4.1.0)\n",
      "Requirement already satisfied: orjson>=3.9.12 in c:\\users\\user-pc\\documents\\overseas stuff\\edinburgh\\year 3\\coding projects\\ollama rag\\myenv\\lib\\site-packages (from chromadb<0.6.0,>=0.4.0->langchain-chroma) (3.10.7)\n",
      "Requirement already satisfied: httpx>=0.27.0 in c:\\users\\user-pc\\documents\\overseas stuff\\edinburgh\\year 3\\coding projects\\ollama rag\\myenv\\lib\\site-packages (from chromadb<0.6.0,>=0.4.0->langchain-chroma) (0.27.0)\n",
      "Requirement already satisfied: marshmallow<4.0.0,>=3.18.0 in c:\\users\\user-pc\\documents\\overseas stuff\\edinburgh\\year 3\\coding projects\\ollama rag\\myenv\\lib\\site-packages (from dataclasses-json<0.7,>=0.5.7->langchain-community) (3.21.3)\n",
      "Requirement already satisfied: typing-inspect<1,>=0.4.0 in c:\\users\\user-pc\\documents\\overseas stuff\\edinburgh\\year 3\\coding projects\\ollama rag\\myenv\\lib\\site-packages (from dataclasses-json<0.7,>=0.5.7->langchain-community) (0.9.0)\n",
      "Requirement already satisfied: starlette<0.39.0,>=0.37.2 in c:\\users\\user-pc\\documents\\overseas stuff\\edinburgh\\year 3\\coding projects\\ollama rag\\myenv\\lib\\site-packages (from fastapi<1,>=0.95.2->langchain-chroma) (0.38.2)\n",
      "Requirement already satisfied: anyio<5,>=3.5.0 in c:\\users\\user-pc\\documents\\overseas stuff\\edinburgh\\year 3\\coding projects\\ollama rag\\myenv\\lib\\site-packages (from groq<1,>=0.4.1->langchain-groq) (4.4.0)\n",
      "Requirement already satisfied: distro<2,>=1.7.0 in c:\\users\\user-pc\\documents\\overseas stuff\\edinburgh\\year 3\\coding projects\\ollama rag\\myenv\\lib\\site-packages (from groq<1,>=0.4.1->langchain-groq) (1.9.0)\n",
      "Requirement already satisfied: sniffio in c:\\users\\user-pc\\documents\\overseas stuff\\edinburgh\\year 3\\coding projects\\ollama rag\\myenv\\lib\\site-packages (from groq<1,>=0.4.1->langchain-groq) (1.3.1)\n",
      "Requirement already satisfied: filelock in c:\\users\\user-pc\\documents\\overseas stuff\\edinburgh\\year 3\\coding projects\\ollama rag\\myenv\\lib\\site-packages (from huggingface-hub>=0.15.1->sentence_transformers) (3.15.4)\n",
      "Requirement already satisfied: fsspec>=2023.5.0 in c:\\users\\user-pc\\documents\\overseas stuff\\edinburgh\\year 3\\coding projects\\ollama rag\\myenv\\lib\\site-packages (from huggingface-hub>=0.15.1->sentence_transformers) (2024.6.1)\n",
      "Requirement already satisfied: jsonpointer>=1.9 in c:\\users\\user-pc\\documents\\overseas stuff\\edinburgh\\year 3\\coding projects\\ollama rag\\myenv\\lib\\site-packages (from jsonpatch<2.0,>=1.33->langchain-core) (3.0.0)\n",
      "Requirement already satisfied: jiter<1,>=0.4.0 in c:\\users\\user-pc\\documents\\overseas stuff\\edinburgh\\year 3\\coding projects\\ollama rag\\myenv\\lib\\site-packages (from openai<2.0.0,>=1.40.0->langchain-openai) (0.5.0)\n",
      "Requirement already satisfied: annotated-types>=0.4.0 in c:\\users\\user-pc\\documents\\overseas stuff\\edinburgh\\year 3\\coding projects\\ollama rag\\myenv\\lib\\site-packages (from pydantic<3,>=1->langchain) (0.7.0)\n",
      "Requirement already satisfied: pydantic-core==2.20.1 in c:\\users\\user-pc\\documents\\overseas stuff\\edinburgh\\year 3\\coding projects\\ollama rag\\myenv\\lib\\site-packages (from pydantic<3,>=1->langchain) (2.20.1)\n",
      "Requirement already satisfied: charset-normalizer<4,>=2 in c:\\users\\user-pc\\documents\\overseas stuff\\edinburgh\\year 3\\coding projects\\ollama rag\\myenv\\lib\\site-packages (from requests<3,>=2->langchain) (3.3.2)\n",
      "Requirement already satisfied: idna<4,>=2.5 in c:\\users\\user-pc\\documents\\overseas stuff\\edinburgh\\year 3\\coding projects\\ollama rag\\myenv\\lib\\site-packages (from requests<3,>=2->langchain) (3.7)\n",
      "Requirement already satisfied: urllib3<3,>=1.21.1 in c:\\users\\user-pc\\documents\\overseas stuff\\edinburgh\\year 3\\coding projects\\ollama rag\\myenv\\lib\\site-packages (from requests<3,>=2->langchain) (2.2.2)\n",
      "Requirement already satisfied: certifi>=2017.4.17 in c:\\users\\user-pc\\documents\\overseas stuff\\edinburgh\\year 3\\coding projects\\ollama rag\\myenv\\lib\\site-packages (from requests<3,>=2->langchain) (2024.7.4)\n",
      "Requirement already satisfied: greenlet!=0.4.17 in c:\\users\\user-pc\\documents\\overseas stuff\\edinburgh\\year 3\\coding projects\\ollama rag\\myenv\\lib\\site-packages (from SQLAlchemy<3,>=1.4->langchain) (3.0.3)\n",
      "Requirement already satisfied: regex>=2022.1.18 in c:\\users\\user-pc\\documents\\overseas stuff\\edinburgh\\year 3\\coding projects\\ollama rag\\myenv\\lib\\site-packages (from tiktoken<1,>=0.7->langchain-openai) (2024.7.24)\n",
      "Requirement already satisfied: sympy in c:\\users\\user-pc\\documents\\overseas stuff\\edinburgh\\year 3\\coding projects\\ollama rag\\myenv\\lib\\site-packages (from torch>=1.11.0->sentence_transformers) (1.13.2)\n",
      "Requirement already satisfied: networkx in c:\\users\\user-pc\\documents\\overseas stuff\\edinburgh\\year 3\\coding projects\\ollama rag\\myenv\\lib\\site-packages (from torch>=1.11.0->sentence_transformers) (3.3)\n",
      "Requirement already satisfied: jinja2 in c:\\users\\user-pc\\documents\\overseas stuff\\edinburgh\\year 3\\coding projects\\ollama rag\\myenv\\lib\\site-packages (from torch>=1.11.0->sentence_transformers) (3.1.4)\n",
      "Requirement already satisfied: setuptools in c:\\users\\user-pc\\documents\\overseas stuff\\edinburgh\\year 3\\coding projects\\ollama rag\\myenv\\lib\\site-packages (from torch>=1.11.0->sentence_transformers) (72.2.0)\n",
      "Requirement already satisfied: colorama in c:\\users\\user-pc\\documents\\overseas stuff\\edinburgh\\year 3\\coding projects\\ollama rag\\myenv\\lib\\site-packages (from tqdm->sentence_transformers) (0.4.6)\n",
      "Requirement already satisfied: safetensors>=0.4.1 in c:\\users\\user-pc\\documents\\overseas stuff\\edinburgh\\year 3\\coding projects\\ollama rag\\myenv\\lib\\site-packages (from transformers<5.0.0,>=4.34.0->sentence_transformers) (0.4.4)\n",
      "Requirement already satisfied: joblib>=1.2.0 in c:\\users\\user-pc\\documents\\overseas stuff\\edinburgh\\year 3\\coding projects\\ollama rag\\myenv\\lib\\site-packages (from scikit-learn->sentence_transformers) (1.4.2)\n",
      "Requirement already satisfied: threadpoolctl>=3.1.0 in c:\\users\\user-pc\\documents\\overseas stuff\\edinburgh\\year 3\\coding projects\\ollama rag\\myenv\\lib\\site-packages (from scikit-learn->sentence_transformers) (3.5.0)\n",
      "Requirement already satisfied: pyproject_hooks in c:\\users\\user-pc\\documents\\overseas stuff\\edinburgh\\year 3\\coding projects\\ollama rag\\myenv\\lib\\site-packages (from build>=1.0.3->chromadb<0.6.0,>=0.4.0->langchain-chroma) (1.1.0)\n",
      "Requirement already satisfied: httpcore==1.* in c:\\users\\user-pc\\documents\\overseas stuff\\edinburgh\\year 3\\coding projects\\ollama rag\\myenv\\lib\\site-packages (from httpx>=0.27.0->chromadb<0.6.0,>=0.4.0->langchain-chroma) (1.0.5)\n",
      "Requirement already satisfied: h11<0.15,>=0.13 in c:\\users\\user-pc\\documents\\overseas stuff\\edinburgh\\year 3\\coding projects\\ollama rag\\myenv\\lib\\site-packages (from httpcore==1.*->httpx>=0.27.0->chromadb<0.6.0,>=0.4.0->langchain-chroma) (0.14.0)\n",
      "Requirement already satisfied: six>=1.9.0 in c:\\users\\user-pc\\documents\\overseas stuff\\edinburgh\\year 3\\coding projects\\ollama rag\\myenv\\lib\\site-packages (from kubernetes>=28.1.0->chromadb<0.6.0,>=0.4.0->langchain-chroma) (1.16.0)\n",
      "Requirement already satisfied: python-dateutil>=2.5.3 in c:\\users\\user-pc\\documents\\overseas stuff\\edinburgh\\year 3\\coding projects\\ollama rag\\myenv\\lib\\site-packages (from kubernetes>=28.1.0->chromadb<0.6.0,>=0.4.0->langchain-chroma) (2.9.0.post0)\n",
      "Requirement already satisfied: google-auth>=1.0.1 in c:\\users\\user-pc\\documents\\overseas stuff\\edinburgh\\year 3\\coding projects\\ollama rag\\myenv\\lib\\site-packages (from kubernetes>=28.1.0->chromadb<0.6.0,>=0.4.0->langchain-chroma) (2.34.0)\n",
      "Requirement already satisfied: websocket-client!=0.40.0,!=0.41.*,!=0.42.*,>=0.32.0 in c:\\users\\user-pc\\documents\\overseas stuff\\edinburgh\\year 3\\coding projects\\ollama rag\\myenv\\lib\\site-packages (from kubernetes>=28.1.0->chromadb<0.6.0,>=0.4.0->langchain-chroma) (1.8.0)\n",
      "Requirement already satisfied: requests-oauthlib in c:\\users\\user-pc\\documents\\overseas stuff\\edinburgh\\year 3\\coding projects\\ollama rag\\myenv\\lib\\site-packages (from kubernetes>=28.1.0->chromadb<0.6.0,>=0.4.0->langchain-chroma) (2.0.0)\n",
      "Requirement already satisfied: oauthlib>=3.2.2 in c:\\users\\user-pc\\documents\\overseas stuff\\edinburgh\\year 3\\coding projects\\ollama rag\\myenv\\lib\\site-packages (from kubernetes>=28.1.0->chromadb<0.6.0,>=0.4.0->langchain-chroma) (3.2.2)\n",
      "Requirement already satisfied: coloredlogs in c:\\users\\user-pc\\documents\\overseas stuff\\edinburgh\\year 3\\coding projects\\ollama rag\\myenv\\lib\\site-packages (from onnxruntime>=1.14.1->chromadb<0.6.0,>=0.4.0->langchain-chroma) (15.0.1)\n",
      "Requirement already satisfied: flatbuffers in c:\\users\\user-pc\\documents\\overseas stuff\\edinburgh\\year 3\\coding projects\\ollama rag\\myenv\\lib\\site-packages (from onnxruntime>=1.14.1->chromadb<0.6.0,>=0.4.0->langchain-chroma) (24.3.25)\n",
      "Requirement already satisfied: protobuf in c:\\users\\user-pc\\documents\\overseas stuff\\edinburgh\\year 3\\coding projects\\ollama rag\\myenv\\lib\\site-packages (from onnxruntime>=1.14.1->chromadb<0.6.0,>=0.4.0->langchain-chroma) (4.25.4)\n",
      "Requirement already satisfied: deprecated>=1.2.6 in c:\\users\\user-pc\\documents\\overseas stuff\\edinburgh\\year 3\\coding projects\\ollama rag\\myenv\\lib\\site-packages (from opentelemetry-api>=1.2.0->chromadb<0.6.0,>=0.4.0->langchain-chroma) (1.2.14)\n",
      "Requirement already satisfied: importlib-metadata<=8.0.0,>=6.0 in c:\\users\\user-pc\\documents\\overseas stuff\\edinburgh\\year 3\\coding projects\\ollama rag\\myenv\\lib\\site-packages (from opentelemetry-api>=1.2.0->chromadb<0.6.0,>=0.4.0->langchain-chroma) (8.0.0)\n",
      "Requirement already satisfied: googleapis-common-protos~=1.52 in c:\\users\\user-pc\\documents\\overseas stuff\\edinburgh\\year 3\\coding projects\\ollama rag\\myenv\\lib\\site-packages (from opentelemetry-exporter-otlp-proto-grpc>=1.2.0->chromadb<0.6.0,>=0.4.0->langchain-chroma) (1.63.2)\n",
      "Requirement already satisfied: opentelemetry-exporter-otlp-proto-common==1.26.0 in c:\\users\\user-pc\\documents\\overseas stuff\\edinburgh\\year 3\\coding projects\\ollama rag\\myenv\\lib\\site-packages (from opentelemetry-exporter-otlp-proto-grpc>=1.2.0->chromadb<0.6.0,>=0.4.0->langchain-chroma) (1.26.0)\n",
      "Requirement already satisfied: opentelemetry-proto==1.26.0 in c:\\users\\user-pc\\documents\\overseas stuff\\edinburgh\\year 3\\coding projects\\ollama rag\\myenv\\lib\\site-packages (from opentelemetry-exporter-otlp-proto-grpc>=1.2.0->chromadb<0.6.0,>=0.4.0->langchain-chroma) (1.26.0)\n",
      "Requirement already satisfied: opentelemetry-instrumentation-asgi==0.47b0 in c:\\users\\user-pc\\documents\\overseas stuff\\edinburgh\\year 3\\coding projects\\ollama rag\\myenv\\lib\\site-packages (from opentelemetry-instrumentation-fastapi>=0.41b0->chromadb<0.6.0,>=0.4.0->langchain-chroma) (0.47b0)\n",
      "Requirement already satisfied: opentelemetry-instrumentation==0.47b0 in c:\\users\\user-pc\\documents\\overseas stuff\\edinburgh\\year 3\\coding projects\\ollama rag\\myenv\\lib\\site-packages (from opentelemetry-instrumentation-fastapi>=0.41b0->chromadb<0.6.0,>=0.4.0->langchain-chroma) (0.47b0)\n",
      "Requirement already satisfied: opentelemetry-semantic-conventions==0.47b0 in c:\\users\\user-pc\\documents\\overseas stuff\\edinburgh\\year 3\\coding projects\\ollama rag\\myenv\\lib\\site-packages (from opentelemetry-instrumentation-fastapi>=0.41b0->chromadb<0.6.0,>=0.4.0->langchain-chroma) (0.47b0)\n",
      "Requirement already satisfied: opentelemetry-util-http==0.47b0 in c:\\users\\user-pc\\documents\\overseas stuff\\edinburgh\\year 3\\coding projects\\ollama rag\\myenv\\lib\\site-packages (from opentelemetry-instrumentation-fastapi>=0.41b0->chromadb<0.6.0,>=0.4.0->langchain-chroma) (0.47b0)\n",
      "Requirement already satisfied: wrapt<2.0.0,>=1.0.0 in c:\\users\\user-pc\\documents\\overseas stuff\\edinburgh\\year 3\\coding projects\\ollama rag\\myenv\\lib\\site-packages (from opentelemetry-instrumentation==0.47b0->opentelemetry-instrumentation-fastapi>=0.41b0->chromadb<0.6.0,>=0.4.0->langchain-chroma) (1.16.0)\n",
      "Requirement already satisfied: asgiref~=3.0 in c:\\users\\user-pc\\documents\\overseas stuff\\edinburgh\\year 3\\coding projects\\ollama rag\\myenv\\lib\\site-packages (from opentelemetry-instrumentation-asgi==0.47b0->opentelemetry-instrumentation-fastapi>=0.41b0->chromadb<0.6.0,>=0.4.0->langchain-chroma) (3.8.1)\n",
      "Requirement already satisfied: monotonic>=1.5 in c:\\users\\user-pc\\documents\\overseas stuff\\edinburgh\\year 3\\coding projects\\ollama rag\\myenv\\lib\\site-packages (from posthog>=2.4.0->chromadb<0.6.0,>=0.4.0->langchain-chroma) (1.6)\n",
      "Requirement already satisfied: backoff>=1.10.0 in c:\\users\\user-pc\\documents\\overseas stuff\\edinburgh\\year 3\\coding projects\\ollama rag\\myenv\\lib\\site-packages (from posthog>=2.4.0->chromadb<0.6.0,>=0.4.0->langchain-chroma) (2.2.1)\n",
      "Requirement already satisfied: click>=8.0.0 in c:\\users\\user-pc\\documents\\overseas stuff\\edinburgh\\year 3\\coding projects\\ollama rag\\myenv\\lib\\site-packages (from typer>=0.9.0->chromadb<0.6.0,>=0.4.0->langchain-chroma) (8.1.7)\n",
      "Requirement already satisfied: shellingham>=1.3.0 in c:\\users\\user-pc\\documents\\overseas stuff\\edinburgh\\year 3\\coding projects\\ollama rag\\myenv\\lib\\site-packages (from typer>=0.9.0->chromadb<0.6.0,>=0.4.0->langchain-chroma) (1.5.4)\n",
      "Requirement already satisfied: rich>=10.11.0 in c:\\users\\user-pc\\documents\\overseas stuff\\edinburgh\\year 3\\coding projects\\ollama rag\\myenv\\lib\\site-packages (from typer>=0.9.0->chromadb<0.6.0,>=0.4.0->langchain-chroma) (13.7.1)\n",
      "Requirement already satisfied: mypy-extensions>=0.3.0 in c:\\users\\user-pc\\documents\\overseas stuff\\edinburgh\\year 3\\coding projects\\ollama rag\\myenv\\lib\\site-packages (from typing-inspect<1,>=0.4.0->dataclasses-json<0.7,>=0.5.7->langchain-community) (1.0.0)\n",
      "Requirement already satisfied: httptools>=0.5.0 in c:\\users\\user-pc\\documents\\overseas stuff\\edinburgh\\year 3\\coding projects\\ollama rag\\myenv\\lib\\site-packages (from uvicorn[standard]>=0.18.3->chromadb<0.6.0,>=0.4.0->langchain-chroma) (0.6.1)\n",
      "Requirement already satisfied: watchfiles>=0.13 in c:\\users\\user-pc\\documents\\overseas stuff\\edinburgh\\year 3\\coding projects\\ollama rag\\myenv\\lib\\site-packages (from uvicorn[standard]>=0.18.3->chromadb<0.6.0,>=0.4.0->langchain-chroma) (0.23.0)\n",
      "Requirement already satisfied: websockets>=10.4 in c:\\users\\user-pc\\documents\\overseas stuff\\edinburgh\\year 3\\coding projects\\ollama rag\\myenv\\lib\\site-packages (from uvicorn[standard]>=0.18.3->chromadb<0.6.0,>=0.4.0->langchain-chroma) (12.0)\n",
      "Requirement already satisfied: MarkupSafe>=2.0 in c:\\users\\user-pc\\documents\\overseas stuff\\edinburgh\\year 3\\coding projects\\ollama rag\\myenv\\lib\\site-packages (from jinja2->torch>=1.11.0->sentence_transformers) (2.1.5)\n",
      "Requirement already satisfied: mpmath<1.4,>=1.1.0 in c:\\users\\user-pc\\documents\\overseas stuff\\edinburgh\\year 3\\coding projects\\ollama rag\\myenv\\lib\\site-packages (from sympy->torch>=1.11.0->sentence_transformers) (1.3.0)\n",
      "Requirement already satisfied: cachetools<6.0,>=2.0.0 in c:\\users\\user-pc\\documents\\overseas stuff\\edinburgh\\year 3\\coding projects\\ollama rag\\myenv\\lib\\site-packages (from google-auth>=1.0.1->kubernetes>=28.1.0->chromadb<0.6.0,>=0.4.0->langchain-chroma) (5.5.0)\n",
      "Requirement already satisfied: pyasn1-modules>=0.2.1 in c:\\users\\user-pc\\documents\\overseas stuff\\edinburgh\\year 3\\coding projects\\ollama rag\\myenv\\lib\\site-packages (from google-auth>=1.0.1->kubernetes>=28.1.0->chromadb<0.6.0,>=0.4.0->langchain-chroma) (0.4.0)\n",
      "Requirement already satisfied: rsa<5,>=3.1.4 in c:\\users\\user-pc\\documents\\overseas stuff\\edinburgh\\year 3\\coding projects\\ollama rag\\myenv\\lib\\site-packages (from google-auth>=1.0.1->kubernetes>=28.1.0->chromadb<0.6.0,>=0.4.0->langchain-chroma) (4.9)\n",
      "Requirement already satisfied: zipp>=0.5 in c:\\users\\user-pc\\documents\\overseas stuff\\edinburgh\\year 3\\coding projects\\ollama rag\\myenv\\lib\\site-packages (from importlib-metadata<=8.0.0,>=6.0->opentelemetry-api>=1.2.0->chromadb<0.6.0,>=0.4.0->langchain-chroma) (3.20.0)\n",
      "Requirement already satisfied: markdown-it-py>=2.2.0 in c:\\users\\user-pc\\documents\\overseas stuff\\edinburgh\\year 3\\coding projects\\ollama rag\\myenv\\lib\\site-packages (from rich>=10.11.0->typer>=0.9.0->chromadb<0.6.0,>=0.4.0->langchain-chroma) (3.0.0)\n",
      "Requirement already satisfied: pygments<3.0.0,>=2.13.0 in c:\\users\\user-pc\\documents\\overseas stuff\\edinburgh\\year 3\\coding projects\\ollama rag\\myenv\\lib\\site-packages (from rich>=10.11.0->typer>=0.9.0->chromadb<0.6.0,>=0.4.0->langchain-chroma) (2.18.0)\n",
      "Requirement already satisfied: humanfriendly>=9.1 in c:\\users\\user-pc\\documents\\overseas stuff\\edinburgh\\year 3\\coding projects\\ollama rag\\myenv\\lib\\site-packages (from coloredlogs->onnxruntime>=1.14.1->chromadb<0.6.0,>=0.4.0->langchain-chroma) (10.0)\n",
      "Requirement already satisfied: pyreadline3 in c:\\users\\user-pc\\documents\\overseas stuff\\edinburgh\\year 3\\coding projects\\ollama rag\\myenv\\lib\\site-packages (from humanfriendly>=9.1->coloredlogs->onnxruntime>=1.14.1->chromadb<0.6.0,>=0.4.0->langchain-chroma) (3.4.1)\n",
      "Requirement already satisfied: mdurl~=0.1 in c:\\users\\user-pc\\documents\\overseas stuff\\edinburgh\\year 3\\coding projects\\ollama rag\\myenv\\lib\\site-packages (from markdown-it-py>=2.2.0->rich>=10.11.0->typer>=0.9.0->chromadb<0.6.0,>=0.4.0->langchain-chroma) (0.1.2)\n",
      "Requirement already satisfied: pyasn1<0.7.0,>=0.4.6 in c:\\users\\user-pc\\documents\\overseas stuff\\edinburgh\\year 3\\coding projects\\ollama rag\\myenv\\lib\\site-packages (from pyasn1-modules>=0.2.1->google-auth>=1.0.1->kubernetes>=28.1.0->chromadb<0.6.0,>=0.4.0->langchain-chroma) (0.6.0)\n",
      "Note: you may need to restart the kernel to use updated packages.\n"
     ]
    },
    {
     "name": "stderr",
     "output_type": "stream",
     "text": [
      "\n",
      "[notice] A new release of pip is available: 24.0 -> 24.2\n",
      "[notice] To update, run: python.exe -m pip install --upgrade pip\n"
     ]
    }
   ],
   "source": [
    "%pip install -U langchain langchain-community langchain-core sentence_transformers langchain-openai python-dotenv beautifulsoup4 langchain-chroma langchain-groq"
   ]
  },
  {
   "cell_type": "code",
   "execution_count": 51,
   "metadata": {
    "ExecuteTime": {
     "end_time": "2024-08-10T08:48:05.458916Z",
     "start_time": "2024-08-10T08:48:05.452816Z"
    }
   },
   "outputs": [
    {
     "name": "stdout",
     "output_type": "stream",
     "text": [
      "Python interpreter: c:\\Users\\User-PC\\Documents\\Overseas stuff\\Edinburgh\\Year 3\\coding projects\\Ollama RAG\\myenv\\Scripts\\python.exe\n"
     ]
    }
   ],
   "source": [
    "\n",
    "# https://mer.vin/2024/02/ollama-embedding/ - original source code\n",
    "import sys\n",
    "print(f\"Python interpreter: {sys.executable}\") # getting python interpreter\n",
    "\n",
    "from langchain_community.document_loaders import WebBaseLoader\n",
    "from langchain_community.document_loaders import PyPDFLoader\n",
    "from langchain_chroma import Chroma\n",
    "from langchain_community import embeddings\n",
    "from langchain.embeddings import HuggingFaceBgeEmbeddings\n",
    "\n",
    "\n",
    "# from langchain_community.chat_models import ChatOllama\n",
    "from langchain_groq import ChatGroq\n",
    "from langchain_openai import ChatOpenAI, OpenAIEmbeddings # change model and embedding #c1\n",
    "from langchain_community.embeddings import OllamaEmbeddings\n",
    "\n",
    "from langchain_core.runnables import RunnablePassthrough, RunnableLambda\n",
    "from langchain_core.output_parsers import StrOutputParser\n",
    "from langchain_core.prompts import ChatPromptTemplate\n",
    "from langchain.output_parsers import PydanticOutputParser\n",
    "from langchain.text_splitter import CharacterTextSplitter, RecursiveCharacterTextSplitter\n",
    "\n",
    "from urllib.parse import urlparse, unquote\n",
    "\n",
    "import os\n",
    "from dotenv import load_dotenv\n",
    "from pathlib import Path  \n"
   ]
  },
  {
   "cell_type": "code",
   "execution_count": 52,
   "metadata": {},
   "outputs": [],
   "source": [
    "load_dotenv()\n",
    "\n",
    "# current_dir = os.path.dirname(os.path.abspath(__file__))\n",
    "# db_dir = os.path.join(current_dir, \"db\")\n",
    "# persistent_directory = os.path.join(db_dir, \"chromadb-with-sources\")\n",
    "persistent_directory = \"C:\\\\Users\\\\User-PC\\\\Documents\\\\Overseas stuff\\\\Edinburgh\\\\Year 3\\\\coding projects\\\\Ollama RAG\\\\db\\\\chromadb\"\n",
    "\n",
    "\n",
    "def extract_page_name(docs):\n",
    "    for item in docs:\n",
    "        full_url = item.metadata.get(\"source\")\n",
    "        parsed_url = urlparse(full_url)\n",
    "        page_name = unquote(parsed_url.path.split('/')[-1])\n",
    "\n",
    "        item.metadata[\"id\"] = page_name\n",
    "        print(item.metadata[\"id\"])"
   ]
  },
  {
   "cell_type": "code",
   "execution_count": 53,
   "metadata": {
    "ExecuteTime": {
     "end_time": "2024-08-10T08:48:09.032238Z",
     "start_time": "2024-08-10T08:48:05.460162Z"
    }
   },
   "outputs": [
    {
     "name": "stdout",
     "output_type": "stream",
     "text": [
      "Vector store already exists. No need to initialize\n"
     ]
    }
   ],
   "source": [
    "# using openAI embedding\n",
    "embedding = OpenAIEmbeddings( model = \"text-embedding-3-small\")\n",
    "\n",
    "# using bge as embeddings\n",
    "# model_name = \"BAAI/bge-large-en-v1.5\"\n",
    "# encode_kwargs = {'normalize_embeddings': True} # set True to compute cosine similarity\n",
    "# embedding = HuggingFaceBgeEmbeddings(\n",
    "#     model_name=model_name,\n",
    "#     encode_kwargs=encode_kwargs\n",
    "# )\n",
    "\n",
    "# setting up vector store\n",
    "if not os.path.exists(persistent_directory):\n",
    "    print(\"Persistent directory doesn't exist. Initializing vector store...\")\n",
    "\n",
    "    urls = [\n",
    "        \"https://frackinuniverse.miraheze.org/wiki/Main_Page\",\n",
    "        \"https://frackinuniverse.miraheze.org/wiki/Getting_Started\", \n",
    "        \"https://frackinuniverse.miraheze.org/wiki/Personal_Tricorder\",\n",
    "        \"https://frackinuniverse.miraheze.org/wiki/The_Player\",\n",
    "        \"https://frackinuniverse.miraheze.org/wiki/Stars\",\n",
    "        \"https://frackinuniverse.miraheze.org/wiki/Crafting\",\n",
    "        \"https://frackinuniverse.miraheze.org/wiki/Combat\",\n",
    "        \"https://frackinuniverse.miraheze.org/wiki/Weapons\"\n",
    "    ]\n",
    "    # loading urls \n",
    "    docs = [WebBaseLoader(url).load() for url in urls]\n",
    "    docs_list = [item for sublist in docs for item in sublist]\n",
    "\n",
    "    # set page name in metadata\n",
    "    extract_page_name(docs_list)\n",
    "    # for item in docs_list:\n",
    "    #     full_url = item.metadata.get(\"source\")\n",
    "    #     parsed_url = urlparse(full_url)\n",
    "    #     page_name = unquote(parsed_url.path.split('/')[-1])\n",
    "\n",
    "    #     item.metadata[\"id\"] = page_name\n",
    "    #     print(item.metadata[\"id\"])\n",
    "    \n",
    "\n",
    "    # split document into chunks\n",
    "    # TODO: experiment with chunk size\n",
    "    text_splitter = RecursiveCharacterTextSplitter.from_tiktoken_encoder(chunk_size=1000, chunk_overlap=200)\n",
    "    doc_splits = text_splitter.split_documents(docs_list)\n",
    "\n",
    "    print(\"\\n--- Document Chunks Information ---\")\n",
    "    print(f\"Number of document chunks: {len(doc_splits)}\")\n",
    "    print(f\"Sample chunk\\n{doc_splits[0].page_content}\\n\")\n",
    "\n",
    "\n",
    "\n",
    "    # Convert documents to Embeddings and store them\n",
    "    print(\"\\n--- Creating vector store ---\")\n",
    "    vectorstore = Chroma.from_documents(\n",
    "        documents=doc_splits,\n",
    "        # collection_name=\"rag-openai\",\n",
    "        persist_directory=persistent_directory,\n",
    "        embedding = embedding,\n",
    "    )\n",
    "    print(\"\\n--- Finished cerating vector store ---\")\n",
    "else: \n",
    "    print(\"Vector store already exists. No need to initialize\")\n",
    "\n"
   ]
  },
  {
   "cell_type": "code",
   "execution_count": 54,
   "metadata": {},
   "outputs": [],
   "source": [
    "vectorstore = Chroma(persist_directory=persistent_directory,\n",
    "            embedding_function=embedding)\n",
    "retriever = vectorstore.as_retriever()\n",
    "\n",
    "\n",
    "\n",
    "def retrieve_and_format(query):\n",
    "    relevant_docs = retriever.invoke(query)\n",
    "    print('\\n\\n**********SOURCES**********')\n",
    "    print([doc.metadata.get(\"id\") for doc in relevant_docs])\n",
    "    return \"\\n\\n\".join([doc.page_content for doc in relevant_docs])\n",
    "\n",
    "\n",
    "# model_local = ChatOllama(model=\"mistral\") #c1\n",
    "# model_local = ChatOpenAI(   \n",
    "#     model=\"gpt-4o-mini\",\n",
    "#     temperature = 0.5\n",
    "#     )\n",
    "\n",
    "# llm = ChatOpenAI()\n",
    "\n",
    "model_local = ChatGroq(\n",
    "        api_key=os.getenv(\"GROQ_API_KEY\"),\n",
    "        # model=\"llama-3.1-8b-instant\",\n",
    "        model=\"llama-3.1-70b-versatile\",\n",
    "        temperature=0.1,\n",
    "        )\n",
    "# 1. Split data into chunks\n",
    "\n"
   ]
  },
  {
   "cell_type": "code",
   "execution_count": 55,
   "metadata": {
    "ExecuteTime": {
     "end_time": "2024-08-10T09:02:28.621647Z",
     "start_time": "2024-08-10T09:02:22.879249Z"
    }
   },
   "outputs": [
    {
     "name": "stdout",
     "output_type": "stream",
     "text": [
      "\n",
      "\n",
      "**********SOURCES**********\n",
      "['Personal_Tricorder', 'Personal_Tricorder', 'Personal_Tricorder', 'Personal_Tricorder']\n",
      "The features of the Personal Tricorder include:\n",
      "\n",
      "1. Shift + left-click: Opens the Research interface, where you can unlock recipes to craft new items.\n",
      "2. Left-click: Opens a menu with various options, including:\n",
      "   - Information about the player, bonuses/penalties of the chosen race, resistances to damage types, temporary immunities, etc.\n",
      "   - GPS: information about the current planet, its weather, gravity, biomes, surface dungeons, etc.\n",
      "   - Tool to create mobility Techs like Microsphere or Phase Sprint, and tool to equip them.\n",
      "   - Tool to refuel your Mech.\n",
      "   - Tool to replace weapons, thrusters, etc. on your Mech.\n",
      "   - Tool to upgrade all weapons/armors (for Upgrade Modules, up to tier 6) and tools (for Manipulator Modules, to the maximum tier that the tool supports).\n",
      "   - Codex reader (a more convenient version of the usual codex reader).\n",
      "3. Right-click: Opens the list of Tutorial quests, which can be accepted in the Tricorder without going to any NPCs.\n",
      "4. Shift + right-click: Allows configuration of the Matter Manipulator, including:\n",
      "   - Temporarily reducing the 5x5 mining area.\n",
      "   - Temporarily disabling collection of liquids.\n",
      "   - Temporarily replacing some functions of the Matter Manipulator with other tools or weapons.\n",
      "   - Replacing the basic Matter Manipulator with a highly advanced Manipulator.\n"
     ]
    }
   ],
   "source": [
    "\n",
    "# question = \"List out all one-handed melee weapons\"\n",
    "question = \"what are the features of the personal tricorder?\"\n",
    "exit_keyword = \"exit\"\n",
    "\n",
    "# 4. After RAG\n",
    "rag_template = \"\"\"Answer the question based only on the following context. If the information is not in the context, say you don't have that information.\n",
    ":\n",
    "{context}\n",
    "Question: {question}\n",
    "\"\"\"\n",
    "rag_prompt = ChatPromptTemplate.from_template(rag_template)\n",
    "rag_chain = (\n",
    "    {\"context\": RunnableLambda(retrieve_and_format), \"question\": RunnablePassthrough()}\n",
    "    | rag_prompt\n",
    "    | model_local\n",
    "    | StrOutputParser()\n",
    ")\n",
    "result = rag_chain.invoke(question)\n",
    "print(result)\n",
    "\n",
    "# while True:\n",
    "    # user_question = input(\"\\nHuman: \").strip()\n",
    "\n",
    "    # if user_question.lower() == exit_keyword.lower():\n",
    "    #     print(\"Exiting the program. Goodbye!\")\n",
    "    #     break\n",
    "\n",
    "    # if user_question:\n",
    "    #     print(\"\\nProcessing your question...\\n\")\n",
    "    #     nomic_response = rag_chain.invoke(user_question)\n",
    "    #     openai_response = rag_chain_openai.invoke(user_question)\n",
    "    #     print(\"====== Nomic Answer======:\\n \",nomic_response)\n",
    "    #     print(\"\\n====== OpenAI Answer ======\\n\",openai_response)\n",
    "    # else:\n",
    "    #     print(\"Please enter a valid question\")\n",
    "\n",
    "# loader = PyPDFLoader(\"Ollama.pdf\")\n",
    "# doc_splits = loader.load_and_split()\n"
   ]
  },
  {
   "cell_type": "code",
   "execution_count": 56,
   "metadata": {
    "ExecuteTime": {
     "end_time": "2024-08-10T09:02:32.830437Z",
     "start_time": "2024-08-10T09:02:30.882750Z"
    }
   },
   "outputs": [
    {
     "name": "stdout",
     "output_type": "stream",
     "text": [
      "\n",
      "\n",
      "**********SOURCES**********\n",
      "['Personal_Tricorder', 'Personal_Tricorder', 'Personal_Tricorder', 'Personal_Tricorder']\n",
      "You can find the Personal Tricorder at the following locations if you lose it:\n",
      "\n",
      "1. Lost and Found (cost: 44x Pixels)\n",
      "2. Penguin Bay (cost: 44x Pixels)\n",
      "3. You can also craft it at the Tinkering Table using the following materials:\n",
      "   - 2x Silicon Board\n",
      "   - 1x Glass\n",
      "   - 1x Tungsten Bar\n"
     ]
    }
   ],
   "source": [
    "tricorder_2 = \"where can i find this tricorder if i happen to lose it?\"\n",
    "result_2 = rag_chain.invoke(tricorder_2)\n",
    "print(result_2)"
   ]
  },
  {
   "cell_type": "code",
   "execution_count": 61,
   "metadata": {
    "ExecuteTime": {
     "end_time": "2024-08-10T09:10:00.542907Z",
     "start_time": "2024-08-10T09:09:58.588426Z"
    }
   },
   "outputs": [
    {
     "name": "stdout",
     "output_type": "stream",
     "text": [
      "\n",
      "\n",
      "**********SOURCES**********\n",
      "['Personal_Tricorder', 'Personal_Tricorder', 'Personal_Tricorder', 'Personal_Tricorder']\n",
      "Yes, you can craft a Personal Tricorder without using pixels. You can craft it at the Tinkering Table using 2x Silicon Board, 1x Glass, and 1x Tungsten Bar.\n"
     ]
    }
   ],
   "source": [
    "tricorder_3 = \"Can i craft a personal tricorder without having to use my pixels?\"\n",
    "result_3 = rag_chain.invoke(tricorder_3)\n",
    "print(result_3)"
   ]
  },
  {
   "cell_type": "code",
   "execution_count": 58,
   "metadata": {
    "ExecuteTime": {
     "end_time": "2024-08-10T09:13:10.719230Z",
     "start_time": "2024-08-10T09:13:07.159514Z"
    }
   },
   "outputs": [
    {
     "name": "stdout",
     "output_type": "stream",
     "text": [
      "\n",
      "\n",
      "**********SOURCES**********\n",
      "['Personal_Tricorder', 'Personal_Tricorder', 'Crafting', 'Personal_Tricorder']\n",
      "According to the provided context, here are a few things you can craft with the Personal Tricorder:\n",
      "\n",
      "1. Magnet Grip II \n",
      "   - 10x Tech Card\n",
      "   - 5x Precursor Data Storage\n",
      "   - 15x Quantum Fluid\n",
      "   - 3x Engraved Device\n",
      "\n",
      "2. Quint Jump \n",
      "   - 11x Tech Card\n",
      "   - 3x Research Holodisc\n",
      "   - 4x Xithricite\n",
      "   - 1x Teleporter Core\n",
      "\n",
      "3. Blink Dash II \n",
      "   - 12x Tech Card\n",
      "   - 3x Research Holodisc\n",
      "   - 4x Densinium Bar\n",
      "   - 10x Irradium Bar\n"
     ]
    }
   ],
   "source": [
    "tricorder_4 = \"can you tell me a few things that i can craft (along with its  required crafting amterials) with the tricorder?\"\n",
    "result_4 = rag_chain.invoke(tricorder_4)\n",
    "print(result_4)"
   ]
  },
  {
   "cell_type": "markdown",
   "metadata": {},
   "source": [
    "#### UI"
   ]
  },
  {
   "cell_type": "code",
   "execution_count": 59,
   "metadata": {
    "ExecuteTime": {
     "end_time": "2024-08-10T08:48:18.636528Z",
     "start_time": "2024-08-10T08:48:15.018442Z"
    }
   },
   "outputs": [
    {
     "ename": "ModuleNotFoundError",
     "evalue": "No module named 'gradio'",
     "output_type": "error",
     "traceback": [
      "\u001b[1;31m---------------------------------------------------------------------------\u001b[0m",
      "\u001b[1;31mModuleNotFoundError\u001b[0m                       Traceback (most recent call last)",
      "Cell \u001b[1;32mIn[59], line 1\u001b[0m\n\u001b[1;32m----> 1\u001b[0m \u001b[38;5;28;01mimport\u001b[39;00m \u001b[38;5;21;01mgradio\u001b[39;00m \u001b[38;5;28;01mas\u001b[39;00m \u001b[38;5;21;01mgr\u001b[39;00m\n\u001b[0;32m      2\u001b[0m \u001b[38;5;28;01mfrom\u001b[39;00m \u001b[38;5;21;01mlangchain_community\u001b[39;00m\u001b[38;5;21;01m.\u001b[39;00m\u001b[38;5;21;01mdocument_loaders\u001b[39;00m \u001b[38;5;28;01mimport\u001b[39;00m WebBaseLoader, PyPDFLoader\n\u001b[0;32m      3\u001b[0m \u001b[38;5;28;01mfrom\u001b[39;00m \u001b[38;5;21;01mlangchain_community\u001b[39;00m\u001b[38;5;21;01m.\u001b[39;00m\u001b[38;5;21;01mvectorstores\u001b[39;00m \u001b[38;5;28;01mimport\u001b[39;00m Chroma\n",
      "\u001b[1;31mModuleNotFoundError\u001b[0m: No module named 'gradio'"
     ]
    }
   ],
   "source": [
    "import gradio as gr\n",
    "from langchain_community.document_loaders import WebBaseLoader, PyPDFLoader\n",
    "from langchain_community.vectorstores import Chroma\n",
    "from langchain_community import embeddings\n",
    "# from langchain_community.chat_models import ChatOllama\n",
    "from langchain.llms import OpenAI\n",
    "from langchain_core.runnables import RunnablePassthrough\n",
    "from langchain_core.output_parsers import StrOutputParser\n",
    "from langchain_core.prompts import ChatPromptTemplate\n",
    "from langchain.output_parsers import PydanticOutputParser\n",
    "from langchain.text_splitter import CharacterTextSplitter\n",
    "\n",
    "def process_input(urls, question):\n",
    "    model_local = ChatOllama(model=\"mistral\")\n",
    "    \n",
    "    # Convert string of URLs to list\n",
    "    urls_list = urls.split(\"\\n\")\n",
    "    docs = [WebBaseLoader(url).load() for url in urls_list]\n",
    "    docs_list = [item for sublist in docs for item in sublist]\n",
    "    \n",
    "    text_splitter = CharacterTextSplitter.from_tiktoken_encoder(chunk_size=1000, chunk_overlap=200)\n",
    "    doc_splits = text_splitter.split_documents(docs_list)\n",
    "\n",
    "    vectorstore = Chroma.from_documents(\n",
    "        documents=doc_splits,\n",
    "        collection_name=\"rag-chroma\",\n",
    "        embedding=embeddings.ollama.OllamaEmbeddings(model='nomic-embed-text'),\n",
    "    )\n",
    "    retriever = vectorstore.as_retriever()\n",
    "\n",
    "    after_rag_template = \"\"\"Answer the question based only on the following context (If the information is not in the context, say you don't have that information):\n",
    "    {context}\n",
    "    Question: {question}\n",
    "    \"\"\"\n",
    "    after_rag_prompt = ChatPromptTemplate.from_template(after_rag_template)\n",
    "    after_rag_chain = (\n",
    "        {\"context\": retriever, \"question\": RunnablePassthrough()}\n",
    "        | after_rag_prompt\n",
    "        | model_local\n",
    "        | StrOutputParser()\n",
    "    )\n",
    "    return after_rag_chain.invoke(question)\n",
    "\n",
    "# Define Gradio interface\n",
    "iface = gr.Interface(fn=process_input,\n",
    "                     inputs=[gr.Textbox(label=\"Enter URLs separated by new lines\"), gr.Textbox(label=\"Question\")],\n",
    "                     outputs=\"text\",\n",
    "                     title=\"Document Query with Ollama\",\n",
    "                     description=\"Enter URLs and a question to query the documents.\")\n",
    "iface.launch()"
   ]
  }
 ],
 "metadata": {
  "kernelspec": {
   "display_name": "Python 3 (ipykernel)",
   "language": "python",
   "name": "python3"
  },
  "language_info": {
   "codemirror_mode": {
    "name": "ipython",
    "version": 3
   },
   "file_extension": ".py",
   "mimetype": "text/x-python",
   "name": "python",
   "nbconvert_exporter": "python",
   "pygments_lexer": "ipython3",
   "version": "3.12.4"
  }
 },
 "nbformat": 4,
 "nbformat_minor": 2
}
